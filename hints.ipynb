{
 "cells": [
  {
   "cell_type": "code",
   "execution_count": 3,
   "metadata": {},
   "outputs": [
    {
     "data": {
      "text/plain": [
       "'Frozen Dict'"
      ]
     },
     "execution_count": 3,
     "metadata": {},
     "output_type": "execute_result"
    }
   ],
   "source": [
    "# Capitalizing First Letter\n",
    "\n",
    "'frozen dict'.title()"
   ]
  },
  {
   "cell_type": "code",
   "execution_count": 6,
   "metadata": {},
   "outputs": [
    {
     "data": {
      "text/plain": [
       "{1: 'hello', 2: 'world', 3: 'Python', 4: 'Programming'}"
      ]
     },
     "execution_count": 6,
     "metadata": {},
     "output_type": "execute_result"
    }
   ],
   "source": [
    "# Merge two dicts\n",
    "\n",
    "dic1={1:\"hello\", 2:\"world\"}\n",
    "dic2={3:\"Python\", 4:\"Programming\"}\n",
    "\n",
    "dic1.update(dic2)\n",
    "\n",
    "dic1"
   ]
  },
  {
   "cell_type": "code",
   "execution_count": 8,
   "metadata": {},
   "outputs": [
    {
     "name": "stdout",
     "output_type": "stream",
     "text": [
      "55\n",
      "28\n",
      "28\n"
     ]
    }
   ],
   "source": [
    "# Memory size\n",
    "\n",
    "import sys\n",
    "\n",
    "var1=\"Python\"\n",
    "var2=100\n",
    "var3=True\n",
    "print(sys.getsizeof(var1)) #55\n",
    "print(sys.getsizeof(var2)) #28\n",
    "print(sys.getsizeof(var3)) #28"
   ]
  },
  {
   "cell_type": "code",
   "execution_count": 11,
   "metadata": {},
   "outputs": [
    {
     "data": {
      "text/plain": [
       "True"
      ]
     },
     "execution_count": 11,
     "metadata": {},
     "output_type": "execute_result"
    }
   ],
   "source": [
    "# Anagrams\n",
    "\n",
    "from collections import Counter\n",
    "\n",
    "def anagrams(str1, str2):\n",
    "    return Counter(str1) == Counter(str2)\n",
    "\n",
    "anagrams(\"abc1\", \"1bac\") # True"
   ]
  },
  {
   "cell_type": "code",
   "execution_count": 12,
   "metadata": {},
   "outputs": [
    {
     "name": "stdout",
     "output_type": "stream",
     "text": [
      "[('Coffee', 14), ('pepsi', 25), ('burger', 56), ('pizza', 200)]\n"
     ]
    }
   ],
   "source": [
    "# Sorted dict\n",
    "\n",
    "orders = {\n",
    " 'pizza': 200,\n",
    " 'burger': 56,\n",
    " 'pepsi': 25,\n",
    "    'Coffee': 14\n",
    "}\n",
    "sorted_dic= sorted(orders.items(), key=lambda x: x[1])\n",
    "print(sorted_dic)  # [('Coffee', 14), ('pepsi', 25), ('burger', 56), ('pizza', 200)]"
   ]
  },
  {
   "cell_type": "code",
   "execution_count": 13,
   "metadata": {},
   "outputs": [
    {
     "data": {
      "text/plain": [
       "['d', 'c', 'b', 'a']"
      ]
     },
     "execution_count": 13,
     "metadata": {},
     "output_type": "execute_result"
    }
   ],
   "source": [
    "# Reverse array\n",
    "\n",
    "['a', 'b', 'c', 'd'][::-1]"
   ]
  },
  {
   "cell_type": "code",
   "execution_count": null,
   "metadata": {},
   "outputs": [],
   "source": []
  }
 ],
 "metadata": {
  "kernelspec": {
   "display_name": "Python 3",
   "language": "python",
   "name": "python3"
  },
  "language_info": {
   "codemirror_mode": {
    "name": "ipython",
    "version": 3
   },
   "file_extension": ".py",
   "mimetype": "text/x-python",
   "name": "python",
   "nbconvert_exporter": "python",
   "pygments_lexer": "ipython3",
   "version": "3.6.9"
  }
 },
 "nbformat": 4,
 "nbformat_minor": 4
}
