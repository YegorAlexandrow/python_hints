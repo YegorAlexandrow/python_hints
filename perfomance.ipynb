{
 "cells": [
  {
   "cell_type": "markdown",
   "metadata": {},
   "source": [
    "# dis\n",
    "> The dis module supports the analysis of CPython bytecode by disassembling it. The CPython bytecode which this module takes as an input is defined in the file Include/opcode.h and used by the compiler and the interpreter."
   ]
  },
  {
   "cell_type": "code",
   "execution_count": 1,
   "metadata": {},
   "outputs": [],
   "source": [
    "import dis\n",
    "import numpy as np"
   ]
  },
  {
   "cell_type": "code",
   "execution_count": 8,
   "metadata": {},
   "outputs": [
    {
     "name": "stdout",
     "output_type": "stream",
     "text": [
      "  1           0 LOAD_NAME                0 (a)\n",
      "              2 LOAD_CONST               0 (2)\n",
      "              4 BINARY_POWER\n",
      "              6 RETURN_VALUE\n",
      "  1           0 LOAD_NAME                0 (a)\n",
      "              2 LOAD_CONST               0 (0.5)\n",
      "              4 BINARY_POWER\n",
      "              6 RETURN_VALUE\n",
      "  1           0 LOAD_NAME                0 (a)\n",
      "              2 LOAD_NAME                0 (a)\n",
      "              4 BINARY_MULTIPLY\n",
      "              6 RETURN_VALUE\n",
      "  1           0 LOAD_NAME                0 (a)\n",
      "              2 LOAD_NAME                0 (a)\n",
      "              4 BINARY_ADD\n",
      "              6 LOAD_NAME                1 (b)\n",
      "              8 BINARY_ADD\n",
      "             10 RETURN_VALUE\n"
     ]
    }
   ],
   "source": [
    "dis.dis('a**2')\n",
    "dis.dis('a**0.5')\n",
    "dis.dis('a * a')\n",
    "dis.dis('a + a + b')"
   ]
  },
  {
   "cell_type": "code",
   "execution_count": 14,
   "metadata": {},
   "outputs": [
    {
     "name": "stdout",
     "output_type": "stream",
     "text": [
      "  2           0 LOAD_CONST               1 (0)\n",
      "              2 STORE_FAST               0 (s)\n",
      "\n",
      "  3           4 SETUP_LOOP              24 (to 30)\n",
      "              6 LOAD_GLOBAL              0 (range)\n",
      "              8 LOAD_CONST               2 (100)\n",
      "             10 CALL_FUNCTION            1\n",
      "             12 GET_ITER\n",
      "        >>   14 FOR_ITER                12 (to 28)\n",
      "             16 STORE_FAST               1 (i)\n",
      "\n",
      "  4          18 LOAD_FAST                0 (s)\n",
      "             20 LOAD_FAST                1 (i)\n",
      "             22 INPLACE_ADD\n",
      "             24 STORE_FAST               0 (s)\n",
      "             26 JUMP_ABSOLUTE           14\n",
      "        >>   28 POP_BLOCK\n",
      "\n",
      "  5     >>   30 LOAD_FAST                0 (s)\n",
      "             32 RETURN_VALUE\n",
      "---\n",
      "  8           0 LOAD_GLOBAL              0 (sum)\n",
      "              2 LOAD_CONST               1 (<code object <listcomp> at 0x0000025EC85304B0, file \"<ipython-input-14-68b1605a1ceb>\", line 8>)\n",
      "              4 LOAD_CONST               2 ('b.<locals>.<listcomp>')\n",
      "              6 MAKE_FUNCTION            0\n",
      "              8 LOAD_GLOBAL              1 (range)\n",
      "             10 LOAD_CONST               3 (100)\n",
      "             12 CALL_FUNCTION            1\n",
      "             14 GET_ITER\n",
      "             16 CALL_FUNCTION            1\n",
      "             18 CALL_FUNCTION            1\n",
      "             20 RETURN_VALUE\n",
      "\n",
      "Disassembly of <code object <listcomp> at 0x0000025EC85304B0, file \"<ipython-input-14-68b1605a1ceb>\", line 8>:\n",
      "  8           0 BUILD_LIST               0\n",
      "              2 LOAD_FAST                0 (.0)\n",
      "        >>    4 FOR_ITER                 8 (to 14)\n",
      "              6 STORE_FAST               1 (i)\n",
      "              8 LOAD_FAST                1 (i)\n",
      "             10 LIST_APPEND              2\n",
      "             12 JUMP_ABSOLUTE            4\n",
      "        >>   14 RETURN_VALUE\n",
      "---\n",
      " 11           0 LOAD_GLOBAL              0 (np)\n",
      "              2 LOAD_METHOD              1 (sum)\n",
      "              4 LOAD_CONST               1 (<code object <listcomp> at 0x0000025EC85E8930, file \"<ipython-input-14-68b1605a1ceb>\", line 11>)\n",
      "              6 LOAD_CONST               2 ('c.<locals>.<listcomp>')\n",
      "              8 MAKE_FUNCTION            0\n",
      "             10 LOAD_GLOBAL              2 (range)\n",
      "             12 LOAD_CONST               3 (100)\n",
      "             14 CALL_FUNCTION            1\n",
      "             16 GET_ITER\n",
      "             18 CALL_FUNCTION            1\n",
      "             20 CALL_METHOD              1\n",
      "             22 RETURN_VALUE\n",
      "\n",
      "Disassembly of <code object <listcomp> at 0x0000025EC85E8930, file \"<ipython-input-14-68b1605a1ceb>\", line 11>:\n",
      " 11           0 BUILD_LIST               0\n",
      "              2 LOAD_FAST                0 (.0)\n",
      "        >>    4 FOR_ITER                 8 (to 14)\n",
      "              6 STORE_FAST               1 (i)\n",
      "              8 LOAD_FAST                1 (i)\n",
      "             10 LIST_APPEND              2\n",
      "             12 JUMP_ABSOLUTE            4\n",
      "        >>   14 RETURN_VALUE\n"
     ]
    }
   ],
   "source": [
    "def a():\n",
    "    s = 0\n",
    "    for i in range(100):\n",
    "        s += i\n",
    "    return s\n",
    "\n",
    "def b():\n",
    "    return sum([i for i in range(100)])\n",
    "\n",
    "def c():\n",
    "    return np.sum([i for i in range(100)])\n",
    "\n",
    "dis.dis(a)\n",
    "print('---')\n",
    "dis.dis(b)\n",
    "print('---')\n",
    "dis.dis(c)"
   ]
  },
  {
   "cell_type": "code",
   "execution_count": null,
   "metadata": {},
   "outputs": [],
   "source": []
  }
 ],
 "metadata": {
  "kernelspec": {
   "display_name": "Python 3",
   "language": "python",
   "name": "python3"
  },
  "language_info": {
   "codemirror_mode": {
    "name": "ipython",
    "version": 3
   },
   "file_extension": ".py",
   "mimetype": "text/x-python",
   "name": "python",
   "nbconvert_exporter": "python",
   "pygments_lexer": "ipython3",
   "version": "3.7.6"
  }
 },
 "nbformat": 4,
 "nbformat_minor": 4
}
