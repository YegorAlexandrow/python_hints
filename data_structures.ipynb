{
 "cells": [
  {
   "cell_type": "code",
   "execution_count": null,
   "metadata": {},
   "outputs": [],
   "source": []
  },
  {
   "cell_type": "code",
   "execution_count": 2,
   "metadata": {},
   "outputs": [],
   "source": [
    "from typing import Optional\n",
    "\n",
    "\n",
    "class Position:\n",
    "    MIN_LATITUDE = -90\n",
    "    MAX_LATITUDE = 90\n",
    "    MIN_LONGITUDE = -180\n",
    "    MAX_LONGITUDE = 180\n",
    "\n",
    "    def __init__(\n",
    "        self, longitude: float, latitude: float, address: Optional[str] = None\n",
    "    ):\n",
    "        self.longitude = longitude\n",
    "        self.latitude = latitude\n",
    "        self.address = address\n",
    "\n",
    "    @property\n",
    "    def latitude(self) -> float:\n",
    "        \"\"\"Getter for latitude.\"\"\"\n",
    "        return self._latitude\n",
    "    \n",
    "    #SETTERS!\n",
    "    @latitude.setter\n",
    "    def latitude(self, latitude: float) -> None:\n",
    "        \"\"\"Setter for latitude.\"\"\"\n",
    "        if not (Position.MIN_LATITUDE <= latitude <= Position.MAX_LATITUDE):\n",
    "            raise ValueError(f\"latitude was {latitude}, but has to be in [-90, 90]\")\n",
    "        self._latitude = latitude"
   ]
  },
  {
   "cell_type": "markdown",
   "metadata": {},
   "source": [
    "# attrs\n",
    "\n",
    "`attrs` is a third-party library that reduces boilerplate code.\n",
    "Developers can use it by adding the @attrs.s decorator above the class.\n",
    "Attributes are assigned the `attr.ib()` function."
   ]
  },
  {
   "cell_type": "code",
   "execution_count": 4,
   "metadata": {},
   "outputs": [],
   "source": [
    "from typing import Optional\n",
    "import attr\n",
    "\n",
    "\n",
    "@attr.s\n",
    "class Position:\n",
    "    longitude: float = attr.ib()\n",
    "    latitude: float = attr.ib()\n",
    "    address: Optional[str] = attr.ib(default=None)\n",
    "\n",
    "    @longitude.validator\n",
    "    def check_long(self, attribute, v):\n",
    "        if not (-180 <= v <= 180):\n",
    "            raise ValueError(f\"Longitude was {v}, but must be in [-180, +180]\")\n",
    "\n",
    "    @latitude.validator\n",
    "    def check_lat(self, attribute, v):\n",
    "        if not (-90 <= v <= 90):\n",
    "            raise ValueError(f\"Latitude was {v}, but must be in [-90, +90]\")"
   ]
  },
  {
   "cell_type": "markdown",
   "metadata": {},
   "source": [
    "# Dataclasses\n",
    "\n",
    "Dataclasses were added in Python 3.7 with PEP 557. They are similar to attrs, but in the standard library. It’s especially important to note that dataclasses are “just” normal classes that happen to have lots of data in them.\n",
    "In contrast to attrs, data classes use type annotations instead of the attr.ib() notation. I think this increases readability a lot. Also, the editor support is better because you now have to annotate the attributes.\n",
    "You can easily make it immutable by changing the decorator to @dataclass(frozen=True) — just like with attrs."
   ]
  },
  {
   "cell_type": "code",
   "execution_count": 5,
   "metadata": {},
   "outputs": [],
   "source": [
    "from typing import Optional\n",
    "from dataclasses import dataclass\n",
    "\n",
    "\n",
    "@dataclass\n",
    "class Position:\n",
    "    longitude: float\n",
    "    latitude: float\n",
    "    address: Optional[str] = None\n",
    "\n",
    "      \n",
    "pos1 = Position(49.0127913, 8.4231381, \"Parkstraße 17\")\n",
    "pos2 = Position(42.1238762, 9.1649964, None)\n",
    "\n",
    "\n",
    "def get_distance(p1: Position, p2: Position) -> float:\n",
    "    pass"
   ]
  },
  {
   "cell_type": "markdown",
   "metadata": {},
   "source": [
    "One part that I’m lacking here is attribute validation. I can use `__post_init__(self)` to do it for the construction:"
   ]
  },
  {
   "cell_type": "code",
   "execution_count": 6,
   "metadata": {},
   "outputs": [],
   "source": [
    "def __post_init__(self):\n",
    "    if not (-180 <= self.longitude <= 180):\n",
    "        v = self.longitude\n",
    "        raise ValueError(f\"Longitude was {v}, but must be in [-180, +180]\")\n",
    "    if not (-90 <= self.latitude <= 90):\n",
    "        v = self.latitude\n",
    "        raise ValueError(f\"Latitude was {v}, but must be in [-90, +90]\")"
   ]
  },
  {
   "cell_type": "markdown",
   "metadata": {},
   "source": [
    "# Pydantic"
   ]
  },
  {
   "cell_type": "code",
   "execution_count": 9,
   "metadata": {},
   "outputs": [],
   "source": [
    "from pydantic import BaseModel\n",
    "import typing\n",
    "\n",
    "class Warehouse(BaseModel):\n",
    "    id: str\n",
    "    name: str\n",
    "    location: typing.Optional[typing.Dict[str, typing.Union[str, float]]]\n",
    "    clientId: str\n",
    "\n",
    "    class Config:\n",
    "        schema_extra = {\n",
    "            'example': {\n",
    "                'id': '0',\n",
    "                'name': 'Noginsk',\n",
    "                'clientId': '0',\n",
    "                'location': {\n",
    "                    'address': 'Ногинск-Технопарк, 8, Ногинск, Богородский городской округ, Московская область, Россия',\n",
    "                    'city': 'Ногинск',\n",
    "                    'latitude': 55.826119,\n",
    "                    'longtitude': 38.389944\n",
    "                }\n",
    "            }\n",
    "        }"
   ]
  },
  {
   "cell_type": "code",
   "execution_count": null,
   "metadata": {},
   "outputs": [],
   "source": []
  }
 ],
 "metadata": {
  "kernelspec": {
   "display_name": "Python 3",
   "language": "python",
   "name": "python3"
  },
  "language_info": {
   "codemirror_mode": {
    "name": "ipython",
    "version": 3
   },
   "file_extension": ".py",
   "mimetype": "text/x-python",
   "name": "python",
   "nbconvert_exporter": "python",
   "pygments_lexer": "ipython3",
   "version": "3.6.9"
  }
 },
 "nbformat": 4,
 "nbformat_minor": 4
}
